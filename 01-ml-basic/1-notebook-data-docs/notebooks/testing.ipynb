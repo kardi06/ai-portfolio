{
 "cells": [
  {
   "cell_type": "markdown",
   "id": "ad036e0e-964e-49a2-830e-a133c9055ecd",
   "metadata": {},
   "source": [
    "Ini adalah file untuk testing aja"
   ]
  },
  {
   "cell_type": "code",
   "execution_count": null,
   "id": "4d06fc51-3f1b-4264-a17e-c2b140081de2",
   "metadata": {},
   "outputs": [],
   "source": []
  }
 ],
 "metadata": {
  "kernelspec": {
   "display_name": "Python 3 (ipykernel)",
   "language": "python",
   "name": "python3"
  },
  "language_info": {
   "codemirror_mode": {
    "name": "ipython",
    "version": 3
   },
   "file_extension": ".py",
   "mimetype": "text/x-python",
   "name": "python",
   "nbconvert_exporter": "python",
   "pygments_lexer": "ipython3",
   "version": "3.11.9"
  }
 },
 "nbformat": 4,
 "nbformat_minor": 5
}
