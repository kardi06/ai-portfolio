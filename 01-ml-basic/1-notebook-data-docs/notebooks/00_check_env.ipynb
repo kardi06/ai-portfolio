{
 "cells": [
  {
   "cell_type": "markdown",
   "id": "8fdfbf97",
   "metadata": {},
   "source": [
    "# 00_check_env.ipynb\n",
    "\n",
    "Sanity check untuk lingkungan Python + Jupyter + NumPy + Pandas + Matplotlib.\n",
    "\n",
    "**Cara pakai:** jalankan tiap sel dari atas ke bawah. Jika semua sel berjalan tanpa error, environment sudah siap.\n"
   ]
  },
  {
   "cell_type": "code",
   "execution_count": 2,
   "id": "f56420f8",
   "metadata": {},
   "outputs": [
    {
     "name": "stdout",
     "output_type": "stream",
     "text": [
      "Python : 3.11.9 (tags/v3.11.9:de54cf5, Apr  2 2024, 10:12:12) [MSC v.1938 64 bit (AMD64)]\n",
      "Platform: Windows-10-10.0.26100-SP0\n",
      "NumPy  : 2.3.2\n",
      "Pandas : 2.3.2\n",
      "Matplotlib: 3.10.5\n"
     ]
    }
   ],
   "source": [
    "import sys, platform\n",
    "import numpy as np\n",
    "import pandas as pd\n",
    "import matplotlib\n",
    "\n",
    "print(\"Python :\", sys.version)\n",
    "print(\"Platform:\", platform.platform())\n",
    "print(\"NumPy  :\", np.__version__)\n",
    "print(\"Pandas :\", pd.__version__)\n",
    "print(\"Matplotlib:\", matplotlib.__version__)\n"
   ]
  },
  {
   "cell_type": "code",
   "execution_count": 1,
   "id": "78428d5d",
   "metadata": {},
   "outputs": [
    {
     "name": "stdout",
     "output_type": "stream",
     "text": [
      "a =\n",
      " [[0 1 2]\n",
      " [3 4 5]\n",
      " [6 7 8]]\n",
      "b =\n",
      " [[1. 1. 1.]\n",
      " [1. 1. 1.]\n",
      " [1. 1. 1.]]\n",
      "a @ b =\n",
      " [[ 3.  3.  3.]\n",
      " [12. 12. 12.]\n",
      " [21. 21. 21.]]\n"
     ]
    }
   ],
   "source": [
    "# NumPy sanity test\n",
    "import numpy as np\n",
    "a = np.arange(9).reshape(3, 3)\n",
    "b = np.ones((3, 3))\n",
    "print(\"a =\\n\", a)\n",
    "print(\"b =\\n\", b)\n",
    "print(\"a @ b =\\n\", a @ b)\n"
   ]
  },
  {
   "cell_type": "code",
   "execution_count": 3,
   "id": "37c82b66",
   "metadata": {},
   "outputs": [
    {
     "name": "stdout",
     "output_type": "stream",
     "text": [
      "  category  value\n",
      "0        A     10\n",
      "1        A     12\n",
      "2        B      8\n",
      "3        B     11\n",
      "\n",
      "Mean value per category:\n",
      "category\n",
      "A    11.0\n",
      "B     9.5\n",
      "Name: value, dtype: float64\n"
     ]
    }
   ],
   "source": [
    "# Pandas sanity test\n",
    "import pandas as pd\n",
    "df = pd.DataFrame({\"category\": [\"A\", \"A\", \"B\", \"B\"], \"value\": [10, 12, 8, 11]})\n",
    "print(df)\n",
    "print(\"\\nMean value per category:\")\n",
    "print(df.groupby(\"category\")[\"value\"].mean())\n"
   ]
  },
  {
   "cell_type": "code",
   "execution_count": null,
   "id": "3ac0dc1b",
   "metadata": {},
   "outputs": [],
   "source": [
    "# Matplotlib sanity test (akan muncul sebuah plot)\n",
    "import matplotlib.pyplot as plt\n",
    "plt.plot([1, 2, 3], [1, 4, 9])\n",
    "plt.title(\"Sanity Plot\")\n",
    "plt.xlabel(\"x\")\n",
    "plt.ylabel(\"y^2\")\n",
    "plt.show()\n"
   ]
  }
 ],
 "metadata": {
  "kernelspec": {
   "display_name": "Python 3 (ipykernel)",
   "language": "python",
   "name": "python3"
  },
  "language_info": {
   "codemirror_mode": {
    "name": "ipython",
    "version": 3
   },
   "file_extension": ".py",
   "mimetype": "text/x-python",
   "name": "python",
   "nbconvert_exporter": "python",
   "pygments_lexer": "ipython3",
   "version": "3.11.9"
  }
 },
 "nbformat": 4,
 "nbformat_minor": 5
}
